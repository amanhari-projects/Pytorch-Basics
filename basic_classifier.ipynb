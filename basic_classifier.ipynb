{
 "cells": [
  {
   "cell_type": "code",
   "execution_count": 1,
   "source": [
    "# import libraries\r\n",
    "import torchvision\r\n",
    "from torchvision import transforms\r\n",
    "from torch.utils.data import DataLoader\r\n",
    "\r\n",
    "# path to the folders\r\n",
    "train_data_path = './train/'\r\n",
    "test_data_path  = './test/'\r\n",
    "val_data_path   = './val/'\r\n",
    "\r\n",
    "# transforms that are applied to the images\r\n",
    "# transform image to 64*64\r\n",
    "# transform image to tensor\r\n",
    "# transform by normalising each dimension with certain mean and std variance to avoid exploding gradient\r\n",
    "transform = transforms.Compose([\r\n",
    "    transforms.Resize(64),                                                      \r\n",
    "    transforms.ToTensor,\r\n",
    "    transforms.Normalize(mean=[0.485,0.456,0.406],std = [0.229,0.224,0.225])\r\n",
    "])\r\n",
    "\r\n",
    "# load the image folder as it is using ImageFolder function\r\n",
    "train_data = torchvision.datasets.ImageFolder(root=train_data_path,transform=transform)\r\n",
    "val_data   = torchvision.datasets.ImageFolder(root=val_data_path,transform=transform)\r\n",
    "test_data  = torchvision.datasets.ImageFolder(root=test_data_path,transform=transform)"
   ],
   "outputs": [],
   "metadata": {}
  },
  {
   "cell_type": "code",
   "execution_count": null,
   "source": [
    "# there are mainly 2 libraries for datasets\r\n",
    "# datasets and Dataloader\r\n",
    "# datasets   :-> loads the data into the dataset object\r\n",
    "# DataLoader :-> used to load the datasets into the Network\r\n",
    "batch_size = 64\r\n",
    "train_data_loader = DataLoader(train_data,batch_size=batch_size)\r\n",
    "test_data_loader  = DataLoader(test_data,batch_size=batch_size)\r\n",
    "val_data_loader   = DataLoader(val_data,batch_size=batch_size)\r\n"
   ],
   "outputs": [],
   "metadata": {}
  }
 ],
 "metadata": {
  "orig_nbformat": 4,
  "language_info": {
   "name": "python",
   "version": "3.8.10",
   "mimetype": "text/x-python",
   "codemirror_mode": {
    "name": "ipython",
    "version": 3
   },
   "pygments_lexer": "ipython3",
   "nbconvert_exporter": "python",
   "file_extension": ".py"
  },
  "kernelspec": {
   "name": "python3",
   "display_name": "Python 3.8.10 64-bit ('pytorch': conda)"
  },
  "interpreter": {
   "hash": "5d855df8f7145eb226b62743acd8e28102a2a44e3ee1c88c6c9f00d00081662c"
  }
 },
 "nbformat": 4,
 "nbformat_minor": 2
}